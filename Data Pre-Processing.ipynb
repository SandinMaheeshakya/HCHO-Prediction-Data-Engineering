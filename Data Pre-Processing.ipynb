{
 "cells": [
  {
   "cell_type": "markdown",
   "metadata": {},
   "source": [
    "### Basic Application Requirements"
   ]
  },
  {
   "cell_type": "code",
   "execution_count": 1,
   "metadata": {},
   "outputs": [],
   "source": [
    "# Import necessary models\n",
    "import pandas as pd\n",
    "import matplotlib.pyplot as plt\n",
    "import pyspark\n",
    "import seaborn as sns\n",
    "import pyspark.sql  as pyspark_sql\n",
    "import pyspark.sql.types as pyspark_types\n",
    "import pyspark.sql.functions as pyspark_functions\n",
    "from pyspark import SparkContext, SparkConf"
   ]
  },
  {
   "cell_type": "markdown",
   "metadata": {},
   "source": [
    "### Creating a Spark Session"
   ]
  },
  {
   "cell_type": "code",
   "execution_count": 2,
   "metadata": {},
   "outputs": [],
   "source": [
    "# Creating spark instance\n",
    "conf = SparkConf().set(\"spark.ui.port\", \"4050\")\n",
    "\n",
    "# create the context\n",
    "sc = pyspark.SparkContext(conf=conf)\n",
    "spark = pyspark_sql.SparkSession.builder.getOrCreate()"
   ]
  },
  {
   "cell_type": "markdown",
   "metadata": {},
   "source": [
    "#### Reading the Datasets"
   ]
  },
  {
   "cell_type": "code",
   "execution_count": 53,
   "metadata": {},
   "outputs": [],
   "source": [
    "# Reading all the datasets (Spark)\n",
    "col_mat_nuw_data = spark.read.csv(\"Datasets/col_mat_nuw_output.csv\", header=None, inferSchema=True)\n",
    "kan_output_data = spark.read.csv(\"Datasets/col_mat_nuw_output.csv\", header=None, inferSchema=True)\n",
    "mon_kur_jaf_output_data = spark.read.csv(\"Datasets/mon_kur_jaf_output.csv\", header=None, inferSchema=True)"
   ]
  },
  {
   "cell_type": "code",
   "execution_count": 54,
   "metadata": {},
   "outputs": [],
   "source": [
    "# Reading all the datasets (Pandas)\n",
    "pd_col_mat_nuw = col_mat_nuw_data.toPandas()\n",
    "pd_kan = kan_output_data.toPandas()\n",
    "pd_mon_kur_jaf = mon_kur_jaf_output_data.toPandas()"
   ]
  },
  {
   "cell_type": "markdown",
   "metadata": {},
   "source": [
    "#### Concating 3 datasets into one dataframe"
   ]
  },
  {
   "cell_type": "code",
   "execution_count": 55,
   "metadata": {},
   "outputs": [],
   "source": [
    "all_city_data = pd.concat([pd_col_mat_nuw, pd_kan, pd_mon_kur_jaf], axis=0)"
   ]
  },
  {
   "cell_type": "markdown",
   "metadata": {},
   "source": [
    "### Basic Details of the Dataset"
   ]
  },
  {
   "cell_type": "markdown",
   "metadata": {},
   "source": [
    "##### Dataset of Colombo, Matara and Nuwara"
   ]
  },
  {
   "cell_type": "code",
   "execution_count": 56,
   "metadata": {},
   "outputs": [
    {
     "name": "stdout",
     "output_type": "stream",
     "text": [
      "<class 'pandas.core.frame.DataFrame'>\n",
      "RangeIndex: 5478 entries, 0 to 5477\n",
      "Data columns (total 4 columns):\n",
      " #   Column  Non-Null Count  Dtype  \n",
      "---  ------  --------------  -----  \n",
      " 0   _c0     3059 non-null   float64\n",
      " 1   _c1     5478 non-null   object \n",
      " 2   _c2     5478 non-null   object \n",
      " 3   _c3     5478 non-null   object \n",
      "dtypes: float64(1), object(3)\n",
      "memory usage: 171.3+ KB\n"
     ]
    }
   ],
   "source": [
    "pd_col_mat_nuw.info()"
   ]
  },
  {
   "cell_type": "code",
   "execution_count": 57,
   "metadata": {},
   "outputs": [
    {
     "name": "stdout",
     "output_type": "stream",
     "text": [
      "<class 'pandas.core.frame.DataFrame'>\n",
      "RangeIndex: 5478 entries, 0 to 5477\n",
      "Data columns (total 4 columns):\n",
      " #   Column  Non-Null Count  Dtype  \n",
      "---  ------  --------------  -----  \n",
      " 0   _c0     3059 non-null   float64\n",
      " 1   _c1     5478 non-null   object \n",
      " 2   _c2     5478 non-null   object \n",
      " 3   _c3     5478 non-null   object \n",
      "dtypes: float64(1), object(3)\n",
      "memory usage: 171.3+ KB\n"
     ]
    }
   ],
   "source": [
    "pd_kan.info()"
   ]
  },
  {
   "cell_type": "code",
   "execution_count": 58,
   "metadata": {},
   "outputs": [
    {
     "name": "stdout",
     "output_type": "stream",
     "text": [
      "<class 'pandas.core.frame.DataFrame'>\n",
      "RangeIndex: 5478 entries, 0 to 5477\n",
      "Data columns (total 4 columns):\n",
      " #   Column  Non-Null Count  Dtype  \n",
      "---  ------  --------------  -----  \n",
      " 0   _c0     3826 non-null   float64\n",
      " 1   _c1     5478 non-null   object \n",
      " 2   _c2     5478 non-null   object \n",
      " 3   _c3     5478 non-null   object \n",
      "dtypes: float64(1), object(3)\n",
      "memory usage: 171.3+ KB\n"
     ]
    }
   ],
   "source": [
    "pd_mon_kur_jaf.info()"
   ]
  },
  {
   "cell_type": "markdown",
   "metadata": {},
   "source": [
    " It occurs that there are null values in the 1st coloumn (HCHO Reading). Also columns were doesnt named with a meaningful name."
   ]
  },
  {
   "cell_type": "markdown",
   "metadata": {},
   "source": [
    "#### Rename Column Names"
   ]
  },
  {
   "cell_type": "code",
   "execution_count": 59,
   "metadata": {},
   "outputs": [],
   "source": [
    "# Define the new column names\n",
    "column_names = ['HCHO Reading', 'Location', 'Current Date', 'Next Date']\n",
    "\n",
    "# Rename the columns\n",
    "all_city_data.columns = column_names\n",
    "pd_col_mat_nuw.columns = column_names\n",
    "pd_kan.columns = column_names\n",
    "pd_mon_kur_jaf.columns = column_names"
   ]
  },
  {
   "cell_type": "code",
   "execution_count": 60,
   "metadata": {},
   "outputs": [
    {
     "data": {
      "text/html": [
       "<div>\n",
       "<style scoped>\n",
       "    .dataframe tbody tr th:only-of-type {\n",
       "        vertical-align: middle;\n",
       "    }\n",
       "\n",
       "    .dataframe tbody tr th {\n",
       "        vertical-align: top;\n",
       "    }\n",
       "\n",
       "    .dataframe thead th {\n",
       "        text-align: right;\n",
       "    }\n",
       "</style>\n",
       "<table border=\"1\" class=\"dataframe\">\n",
       "  <thead>\n",
       "    <tr style=\"text-align: right;\">\n",
       "      <th></th>\n",
       "      <th>HCHO Reading</th>\n",
       "      <th>Location</th>\n",
       "      <th>Current Date</th>\n",
       "      <th>Next Date</th>\n",
       "    </tr>\n",
       "  </thead>\n",
       "  <tbody>\n",
       "    <tr>\n",
       "      <th>0</th>\n",
       "      <td>0.000197</td>\n",
       "      <td>Colombo Proper</td>\n",
       "      <td>2019-01-01</td>\n",
       "      <td>2019-01-02</td>\n",
       "    </tr>\n",
       "    <tr>\n",
       "      <th>1</th>\n",
       "      <td>0.000263</td>\n",
       "      <td>Colombo Proper</td>\n",
       "      <td>2019-01-02</td>\n",
       "      <td>2019-01-03</td>\n",
       "    </tr>\n",
       "    <tr>\n",
       "      <th>2</th>\n",
       "      <td>0.000099</td>\n",
       "      <td>Colombo Proper</td>\n",
       "      <td>2019-01-03</td>\n",
       "      <td>2019-01-04</td>\n",
       "    </tr>\n",
       "    <tr>\n",
       "      <th>3</th>\n",
       "      <td>0.000210</td>\n",
       "      <td>Colombo Proper</td>\n",
       "      <td>2019-01-04</td>\n",
       "      <td>2019-01-05</td>\n",
       "    </tr>\n",
       "    <tr>\n",
       "      <th>4</th>\n",
       "      <td>0.000179</td>\n",
       "      <td>Colombo Proper</td>\n",
       "      <td>2019-01-05</td>\n",
       "      <td>2019-01-06</td>\n",
       "    </tr>\n",
       "  </tbody>\n",
       "</table>\n",
       "</div>"
      ],
      "text/plain": [
       "   HCHO Reading        Location Current Date   Next Date\n",
       "0      0.000197  Colombo Proper   2019-01-01  2019-01-02\n",
       "1      0.000263  Colombo Proper   2019-01-02  2019-01-03\n",
       "2      0.000099  Colombo Proper   2019-01-03  2019-01-04\n",
       "3      0.000210  Colombo Proper   2019-01-04  2019-01-05\n",
       "4      0.000179  Colombo Proper   2019-01-05  2019-01-06"
      ]
     },
     "execution_count": 60,
     "metadata": {},
     "output_type": "execute_result"
    }
   ],
   "source": [
    "all_city_data.head()"
   ]
  },
  {
   "cell_type": "markdown",
   "metadata": {},
   "source": [
    "## Basic Preprocessing"
   ]
  },
  {
   "cell_type": "markdown",
   "metadata": {},
   "source": [
    "### Colombo, Deniyaya, Matara and Nuwara Eliya Data"
   ]
  },
  {
   "cell_type": "markdown",
   "metadata": {},
   "source": [
    "##### Finding the null/missing values of the dataset."
   ]
  },
  {
   "cell_type": "code",
   "execution_count": 61,
   "metadata": {},
   "outputs": [
    {
     "name": "stdout",
     "output_type": "stream",
     "text": [
      "<class 'pandas.core.frame.DataFrame'>\n",
      "RangeIndex: 5478 entries, 0 to 5477\n",
      "Data columns (total 4 columns):\n",
      " #   Column        Non-Null Count  Dtype  \n",
      "---  ------        --------------  -----  \n",
      " 0   HCHO Reading  3059 non-null   float64\n",
      " 1   Location      5478 non-null   object \n",
      " 2   Current Date  5478 non-null   object \n",
      " 3   Next Date     5478 non-null   object \n",
      "dtypes: float64(1), object(3)\n",
      "memory usage: 171.3+ KB\n"
     ]
    }
   ],
   "source": [
    "pd_col_mat_nuw.info()"
   ]
  },
  {
   "cell_type": "code",
   "execution_count": 62,
   "metadata": {},
   "outputs": [
    {
     "data": {
      "text/plain": [
       "HCHO Reading    2419\n",
       "Location           0\n",
       "Current Date       0\n",
       "Next Date          0\n",
       "dtype: int64"
      ]
     },
     "execution_count": 62,
     "metadata": {},
     "output_type": "execute_result"
    }
   ],
   "source": [
    "# Finding the null values\n",
    "pd_col_mat_nuw.isnull().sum()"
   ]
  },
  {
   "cell_type": "markdown",
   "metadata": {},
   "source": [
    "Basic plot of the HCHO Reading Distribution"
   ]
  },
  {
   "cell_type": "code",
   "execution_count": 63,
   "metadata": {},
   "outputs": [
    {
     "data": {
      "image/png": "[encoded data removed]",
      "text/plain": [
       "<Figure size 1000x600 with 1 Axes>"
      ]
     },
     "metadata": {},
     "output_type": "display_data"
    }
   ],
   "source": [
    "# Plot the distribution of the \"HCHO Reading\" column\n",
    "plt.figure(figsize=(10, 6))\n",
    "sns.histplot(pd_col_mat_nuw[\"HCHO Reading\"], kde=True, color='skyblue')\n",
    "plt.title('Distribution of HCHO Reading')\n",
    "plt.xlabel('HCHO Reading')\n",
    "plt.ylabel('Frequency')\n",
    "plt.show()"
   ]
  },
  {
   "cell_type": "markdown",
   "metadata": {},
   "source": [
    "There are 2419 null values from a 5478 dataset. If we remove those null values dataset will be reduced to minimum. Therefore let's fill these values with LOCF and NOCB filling methods. Specially these methods were used because the dataframe is a time series data."
   ]
  },
  {
   "cell_type": "code",
   "execution_count": 64,
   "metadata": {},
   "outputs": [
    {
     "name": "stderr",
     "output_type": "stream",
     "text": [
      "C:\\Users\\Sandin Maheeshakya\\AppData\\Local\\Temp\\ipykernel_12936\\3661108718.py:2: FutureWarning: DataFrame.fillna with 'method' is deprecated and will raise in a future version. Use obj.ffill() or obj.bfill() instead.\n",
      "  pd_col_mat_nuw.fillna(method='ffill', inplace=True)\n",
      "C:\\Users\\Sandin Maheeshakya\\AppData\\Local\\Temp\\ipykernel_12936\\3661108718.py:4: FutureWarning: DataFrame.fillna with 'method' is deprecated and will raise in a future version. Use obj.ffill() or obj.bfill() instead.\n",
      "  pd_col_mat_nuw.fillna(method='bfill', inplace=True)\n"
     ]
    }
   ],
   "source": [
    "# First apply LOCF\n",
    "pd_col_mat_nuw.fillna(method='ffill', inplace=True)\n",
    "# Then apply NOCB\n",
    "pd_col_mat_nuw.fillna(method='bfill', inplace=True)"
   ]
  },
  {
   "cell_type": "code",
   "execution_count": 65,
   "metadata": {},
   "outputs": [
    {
     "data": {
      "text/plain": [
       "HCHO Reading    0\n",
       "Location        0\n",
       "Current Date    0\n",
       "Next Date       0\n",
       "dtype: int64"
      ]
     },
     "execution_count": 65,
     "metadata": {},
     "output_type": "execute_result"
    }
   ],
   "source": [
    "# Finding null values after the data filling\n",
    "pd_col_mat_nuw.isnull().sum()"
   ]
  },
  {
   "cell_type": "markdown",
   "metadata": {},
   "source": [
    "Now You can see that there are no missing/Null values. Let's see the distribution of the Data feature to check how the distribution goes."
   ]
  },
  {
   "cell_type": "code",
   "execution_count": 66,
   "metadata": {},
   "outputs": [
    {
     "data": {
      "image/png": "[encoded data removed]",
      "text/plain": [
       "<Figure size 1000x600 with 1 Axes>"
      ]
     },
     "metadata": {},
     "output_type": "display_data"
    }
   ],
   "source": [
    "# Plot the distribution of the \"HCHO Reading\" column\n",
    "plt.figure(figsize=(10, 6))\n",
    "sns.histplot(pd_col_mat_nuw[\"HCHO Reading\"], kde=True, color='skyblue')\n",
    "plt.title('Distribution of HCHO Reading')\n",
    "plt.xlabel('HCHO Reading')\n",
    "plt.ylabel('Frequency')\n",
    "plt.show()"
   ]
  },
  {
   "cell_type": "markdown",
   "metadata": {},
   "source": [
    "### Duplicate Value Handling"
   ]
  },
  {
   "cell_type": "code",
   "execution_count": 67,
   "metadata": {},
   "outputs": [
    {
     "name": "stdout",
     "output_type": "stream",
     "text": [
      "Empty DataFrame\n",
      "Columns: [HCHO Reading, Location, Current Date, Next Date]\n",
      "Index: []\n"
     ]
    }
   ],
   "source": [
    "# Finding duplicated records in the dataset\n",
    "duplicate_rows = pd_col_mat_nuw[pd_col_mat_nuw.duplicated()]\n",
    "print(duplicate_rows)"
   ]
  },
  {
   "cell_type": "markdown",
   "metadata": {},
   "source": [
    "There is no Duplicate value rows in this dataframe"
   ]
  },
  {
   "cell_type": "markdown",
   "metadata": {},
   "source": [
    "#### Finding Unique values to find unwanted characters"
   ]
  },
  {
   "cell_type": "code",
   "execution_count": 69,
   "metadata": {},
   "outputs": [
    {
     "name": "stdout",
     "output_type": "stream",
     "text": [
      "HCHO Reading\n",
      "[1.96983440e-04 2.62552217e-04 9.85211890e-05 ... 1.07861038e-04\n",
      " 5.93039927e-06 2.36988212e-04]\n",
      "\n",
      "\n",
      "Location\n",
      "['Colombo Proper' 'Deniyaya, Matara' 'Nuwara Eliya Proper']\n",
      "\n",
      "\n",
      "Current Date\n",
      "[datetime.date(2019, 1, 1) datetime.date(2019, 1, 2)\n",
      " datetime.date(2019, 1, 3) ... datetime.date(2023, 12, 29)\n",
      " datetime.date(2023, 12, 30) datetime.date(2023, 12, 31)]\n",
      "\n",
      "\n",
      "Next Date\n",
      "[datetime.date(2019, 1, 2) datetime.date(2019, 1, 3)\n",
      " datetime.date(2019, 1, 4) ... datetime.date(2023, 12, 30)\n",
      " datetime.date(2023, 12, 31) datetime.date(2024, 1, 1)]\n",
      "\n",
      "\n"
     ]
    }
   ],
   "source": [
    "# Printing each unique value in a column\n",
    "for column in pd_col_mat_nuw:\n",
    "    print(column)\n",
    "    print(pd_col_mat_nuw[column].unique())\n",
    "    print('\\n')"
   ]
  },
  {
   "cell_type": "markdown",
   "metadata": {},
   "source": [
    "There is no unwanted characters in the dataset and all good to go forward this dataframe."
   ]
  },
  {
   "cell_type": "markdown",
   "metadata": {},
   "source": [
    "#### Outliers Handling"
   ]
  },
  {
   "cell_type": "markdown",
   "metadata": {},
   "source": [
    "##### HCHO Outliers Handling"
   ]
  },
  {
   "cell_type": "markdown",
   "metadata": {},
   "source": [
    "Boxplot to Check the Outliers of the HCHO data"
   ]
  },
  {
   "cell_type": "code",
   "execution_count": 36,
   "metadata": {},
   "outputs": [],
   "source": [
    "# Create a box plot for HCHO feature\n"
   ]
  }
 ],
 "metadata": {
  "kernelspec": {
   "display_name": "Python 3",
   "language": "python",
   "name": "python3"
  },
  "language_info": {
   "codemirror_mode": {
    "name": "ipython",
    "version": 3
   },
   "file_extension": ".py",
   "mimetype": "text/x-python",
   "name": "python",
   "nbconvert_exporter": "python",
   "pygments_lexer": "ipython3",
   "version": "3.11.5"
  }
 },
 "nbformat": 4,
 "nbformat_minor": 2
}
