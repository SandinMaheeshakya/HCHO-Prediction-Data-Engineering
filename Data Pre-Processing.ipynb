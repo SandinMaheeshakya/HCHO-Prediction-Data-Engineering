{
 "cells": [
  {
   "cell_type": "markdown",
   "metadata": {},
   "source": [
    "### Basic Application Requirements"
   ]
  },
  {
   "cell_type": "code",
   "execution_count": 2,
   "metadata": {},
   "outputs": [],
   "source": [
    "# Import necessary models\n",
    "import pandas as pd\n",
    "import matplotlib.pyplot as plt\n",
    "import pyspark\n",
    "import seaborn as sns\n",
    "import pyspark.sql  as pyspark_sql\n",
    "import pyspark.sql.types as pyspark_types\n",
    "import pyspark.sql.functions as pyspark_functions\n",
    "from pyspark import SparkContext, SparkConf"
   ]
  },
  {
   "cell_type": "code",
   "execution_count": 3,
   "metadata": {},
   "outputs": [],
   "source": [
    "# Creating spark instance\n",
    "conf = SparkConf().set(\"spark.ui.port\", \"4050\")\n",
    "\n",
    "# create the context\n",
    "sc = pyspark.SparkContext(conf=conf)\n",
    "spark = pyspark_sql.SparkSession.builder.getOrCreate()"
   ]
  },
  {
   "cell_type": "code",
   "execution_count": 4,
   "metadata": {},
   "outputs": [],
   "source": [
    "# Reading the dataset\n",
    "col_mat_nuw_data = spark.read.csv(\"Datasets/col_mat_nuw_output.csv\", header=None, inferSchema=True)"
   ]
  },
  {
   "cell_type": "markdown",
   "metadata": {},
   "source": [
    "### Basic Details of the Dataset"
   ]
  },
  {
   "cell_type": "code",
   "execution_count": 5,
   "metadata": {},
   "outputs": [
    {
     "name": "stdout",
     "output_type": "stream",
     "text": [
      "root\n",
      " |-- _c0: double (nullable = true)\n",
      " |-- _c1: string (nullable = true)\n",
      " |-- _c2: date (nullable = true)\n",
      " |-- _c3: date (nullable = true)\n",
      "\n"
     ]
    }
   ],
   "source": [
    "# Data Schema\n",
    "col_mat_nuw_data.printSchema()"
   ]
  },
  {
   "cell_type": "code",
   "execution_count": 6,
   "metadata": {},
   "outputs": [
    {
     "name": "stdout",
     "output_type": "stream",
     "text": [
      "+--------------------+--------------+----------+----------+\n",
      "|                 _c0|           _c1|       _c2|       _c3|\n",
      "+--------------------+--------------+----------+----------+\n",
      "|1.969834395781014...|Colombo Proper|2019-01-01|2019-01-02|\n",
      "|2.625522171968594...|Colombo Proper|2019-01-02|2019-01-03|\n",
      "|9.852118897938794E-5|Colombo Proper|2019-01-03|2019-01-04|\n",
      "|2.099320518114242E-4|Colombo Proper|2019-01-04|2019-01-05|\n",
      "|1.785337298892930...|Colombo Proper|2019-01-05|2019-01-06|\n",
      "|1.082296700235670...|Colombo Proper|2019-01-06|2019-01-07|\n",
      "|3.926829280477309...|Colombo Proper|2019-01-07|2019-01-08|\n",
      "|9.153156350685351E-5|Colombo Proper|2019-01-08|2019-01-09|\n",
      "|1.205978992853015...|Colombo Proper|2019-01-09|2019-01-10|\n",
      "|1.297723562983258...|Colombo Proper|2019-01-10|2019-01-11|\n",
      "|2.239188166801278...|Colombo Proper|2019-01-11|2019-01-12|\n",
      "|1.569418094178759...|Colombo Proper|2019-01-12|2019-01-13|\n",
      "|                NULL|Colombo Proper|2019-01-13|2019-01-14|\n",
      "|1.336291906862603...|Colombo Proper|2019-01-14|2019-01-15|\n",
      "|6.374417842690063E-5|Colombo Proper|2019-01-15|2019-01-16|\n",
      "|1.181062250815020...|Colombo Proper|2019-01-16|2019-01-17|\n",
      "|2.472555222423037...|Colombo Proper|2019-01-17|2019-01-18|\n",
      "|3.667525352047757E-5|Colombo Proper|2019-01-18|2019-01-19|\n",
      "|4.057500868150313E-4|Colombo Proper|2019-01-19|2019-01-20|\n",
      "|1.687856216479722...|Colombo Proper|2019-01-20|2019-01-21|\n",
      "+--------------------+--------------+----------+----------+\n",
      "only showing top 20 rows\n",
      "\n"
     ]
    }
   ],
   "source": [
    "# Basic overview of the dataset\n",
    "col_mat_nuw_data.show()"
   ]
  },
  {
   "cell_type": "markdown",
   "metadata": {},
   "source": [
    "#### Rename Column Names"
   ]
  },
  {
   "cell_type": "code",
   "execution_count": 7,
   "metadata": {},
   "outputs": [],
   "source": [
    "# Define the new column names\n",
    "column_names = ['HCHO Reading', 'Location', 'Current Date', 'Next Date']\n",
    "\n",
    "# Rename the columns\n",
    "for item, col_name in enumerate(column_names):\n",
    "    col_mat_nuw_data = col_mat_nuw_data.withColumnRenamed(col_mat_nuw_data.columns[item], col_name)"
   ]
  },
  {
   "cell_type": "code",
   "execution_count": 8,
   "metadata": {},
   "outputs": [
    {
     "name": "stdout",
     "output_type": "stream",
     "text": [
      "+--------------------+--------------+------------+----------+\n",
      "|        HCHO Reading|      Location|Current Date| Next Date|\n",
      "+--------------------+--------------+------------+----------+\n",
      "|1.969834395781014...|Colombo Proper|  2019-01-01|2019-01-02|\n",
      "|2.625522171968594...|Colombo Proper|  2019-01-02|2019-01-03|\n",
      "|9.852118897938794E-5|Colombo Proper|  2019-01-03|2019-01-04|\n",
      "|2.099320518114242E-4|Colombo Proper|  2019-01-04|2019-01-05|\n",
      "|1.785337298892930...|Colombo Proper|  2019-01-05|2019-01-06|\n",
      "|1.082296700235670...|Colombo Proper|  2019-01-06|2019-01-07|\n",
      "|3.926829280477309...|Colombo Proper|  2019-01-07|2019-01-08|\n",
      "|9.153156350685351E-5|Colombo Proper|  2019-01-08|2019-01-09|\n",
      "|1.205978992853015...|Colombo Proper|  2019-01-09|2019-01-10|\n",
      "|1.297723562983258...|Colombo Proper|  2019-01-10|2019-01-11|\n",
      "|2.239188166801278...|Colombo Proper|  2019-01-11|2019-01-12|\n",
      "|1.569418094178759...|Colombo Proper|  2019-01-12|2019-01-13|\n",
      "|                NULL|Colombo Proper|  2019-01-13|2019-01-14|\n",
      "|1.336291906862603...|Colombo Proper|  2019-01-14|2019-01-15|\n",
      "|6.374417842690063E-5|Colombo Proper|  2019-01-15|2019-01-16|\n",
      "|1.181062250815020...|Colombo Proper|  2019-01-16|2019-01-17|\n",
      "|2.472555222423037...|Colombo Proper|  2019-01-17|2019-01-18|\n",
      "|3.667525352047757E-5|Colombo Proper|  2019-01-18|2019-01-19|\n",
      "|4.057500868150313E-4|Colombo Proper|  2019-01-19|2019-01-20|\n",
      "|1.687856216479722...|Colombo Proper|  2019-01-20|2019-01-21|\n",
      "+--------------------+--------------+------------+----------+\n",
      "only showing top 20 rows\n",
      "\n"
     ]
    }
   ],
   "source": [
    "# Dataset with column names\n",
    "col_mat_nuw_data.show()"
   ]
  },
  {
   "cell_type": "markdown",
   "metadata": {},
   "source": [
    "#### Basic Preprocessing"
   ]
  },
  {
   "cell_type": "markdown",
   "metadata": {},
   "source": [
    "##### Finding the null/missing values of the dataset."
   ]
  },
  {
   "cell_type": "code",
   "execution_count": 9,
   "metadata": {},
   "outputs": [
    {
     "name": "stdout",
     "output_type": "stream",
     "text": [
      "+------------+--------+------------+---------+\n",
      "|HCHO Reading|Location|Current Date|Next Date|\n",
      "+------------+--------+------------+---------+\n",
      "|        2419|       0|           0|        0|\n",
      "+------------+--------+------------+---------+\n",
      "\n"
     ]
    }
   ],
   "source": [
    "# Finding the null values\n",
    "# Checking the sum of the Null values\n",
    "col_mat_nuw_data.select(*[pyspark_functions.sum(pyspark_functions.col(c).isNull().cast(\"int\")).alias(c) for c in col_mat_nuw_data.columns]).show()\n"
   ]
  },
  {
   "cell_type": "markdown",
   "metadata": {},
   "source": [
    "Basic plot of the HCHO Reading Distribution"
   ]
  },
  {
   "cell_type": "code",
   "execution_count": 10,
   "metadata": {},
   "outputs": [
    {
     "data": {
      "image/png": "[encoded data removed]",
      "text/plain": [
       "<Figure size 1000x600 with 1 Axes>"
      ]
     },
     "metadata": {},
     "output_type": "display_data"
    }
   ],
   "source": [
    "hcho_dataframe = col_mat_nuw_data.select(\"HCHO Reading\").toPandas()\n",
    "\n",
    "# Plot the distribution of the \"HCHO Reading\" column\n",
    "plt.figure(figsize=(10, 6))\n",
    "sns.histplot(hcho_dataframe[\"HCHO Reading\"], kde=True, color='skyblue')\n",
    "plt.title('Distribution of HCHO Reading')\n",
    "plt.xlabel('HCHO Reading')\n",
    "plt.ylabel('Frequency')\n",
    "plt.show()"
   ]
  },
  {
   "cell_type": "markdown",
   "metadata": {},
   "source": [
    "There are 2419 Missing/Null values in the dataset. Therefore let's remove them and If we take a look at the distribution This distribution takes a normal distribution. Therefore let's replace the missing values within the Last observation carried forward (LOCF) and Next Observation Carried Backwards (NOCB) Methods."
   ]
  },
  {
   "cell_type": "code",
   "execution_count": 29,
   "metadata": {},
   "outputs": [],
   "source": [
    "# Writing the dataset back to again csv after pre-processing\n",
    "pandas_df = col_mat_nuw_data.toPandas()\n",
    "pandas_df.to_csv('Datasets/Pre-Processed_col_mat_nuw_output.csv')"
   ]
  }
 ],
 "metadata": {
  "kernelspec": {
   "display_name": "Python 3",
   "language": "python",
   "name": "python3"
  },
  "language_info": {
   "codemirror_mode": {
    "name": "ipython",
    "version": 3
   },
   "file_extension": ".py",
   "mimetype": "text/x-python",
   "name": "python",
   "nbconvert_exporter": "python",
   "pygments_lexer": "ipython3",
   "version": "3.11.5"
  }
 },
 "nbformat": 4,
 "nbformat_minor": 2
}
